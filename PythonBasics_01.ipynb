{
  "nbformat": 4,
  "nbformat_minor": 0,
  "metadata": {
    "colab": {
      "provenance": [],
      "authorship_tag": "ABX9TyNXhjS9SiDQJ9mTlhKjKjcO",
      "include_colab_link": true
    },
    "kernelspec": {
      "name": "python3",
      "display_name": "Python 3"
    },
    "language_info": {
      "name": "python"
    }
  },
  "cells": [
    {
      "cell_type": "markdown",
      "metadata": {
        "id": "view-in-github",
        "colab_type": "text"
      },
      "source": [
        "<a href=\"https://colab.research.google.com/github/Krishh-tech/Python/blob/main/PythonBasics_01.ipynb\" target=\"_parent\"><img src=\"https://colab.research.google.com/assets/colab-badge.svg\" alt=\"Open In Colab\"/></a>"
      ]
    },
    {
      "cell_type": "code",
      "source": [
        "\"\"\"name=\"Krish\"\n",
        "age=18\n",
        "price=28.99\n",
        "print(type(name))\n",
        "print(type(age))\n",
        "print(type(price))\n",
        "\"type is function which tells us data type of the varibale\"\n",
        "print(\"my name is:\",name)\n",
        "print(\"My name is:\",name,\"And price of the apple is:\",price)\n",
        "\"Data types-int,boolean,string,none,float\"\n",
        "old=False\n",
        "print(type(old))\n",
        "\"Keywords is reserved word which cann't be used as variable- False,await,else,import,pass,None,break,except,in,raise,True,class,finally,is,return,and,continue,for,lambda,try,as,def,from,nonlocal,while,assert,del,global,not,with,async,elif,if,or,yield\"\n",
        "\"Print a sum\"\n",
        "\"\"\"\n",
        "\n",
        "a=10\n",
        "b=10\n",
        "sum=a+b\n",
        "print(sum)\n",
        "print(id(a),id(b))\n",
        "\n",
        "\"id gives add of the value\"\n",
        "\"Types of tokem-(),{},@,[],#etc\"\n"
      ],
      "metadata": {
        "id": "lyRDMqrZ6chO",
        "colab": {
          "base_uri": "https://localhost:8080/"
        },
        "outputId": "db2f16e0-2d75-4301-c3cb-99c1349b4b52"
      },
      "execution_count": null,
      "outputs": [
        {
          "output_type": "stream",
          "name": "stdout",
          "text": [
            "20\n",
            "11642376 11642376\n"
          ]
        }
      ]
    },
    {
      "cell_type": "markdown",
      "source": [
        "In Python, the + operator can be used to combine (concatenate) two strings.\n",
        "\n",
        "Here,\n",
        "\n",
        "a = \"hello\"\n",
        "b = \"yellow\"\n",
        "print(a + b)\n",
        "\n",
        "\n",
        "a stores \"hello\" and b stores \"yellow\".\n",
        "\n",
        "When we use a + b, Python joins them together into one string → \"helloyellow\".\n",
        "\n",
        "Notice there is no space between them unless we add it manually (like a + \" \" + b).\n",
        "\n",
        "💡 Key idea: + with numbers does addition, but with strings it does concatenation (joining)."
      ],
      "metadata": {
        "id": "BzimmzhVCi2M"
      }
    },
    {
      "cell_type": "code",
      "source": [
        "a=\"hello\"\n",
        "b=\"yellow\"\n",
        "print(a+b)\n",
        "print(a+\" \"+b)\n",
        "c=10\n",
        "print(a+c)\"Error int cant be plus with string\"\n",
        "\n"
      ],
      "metadata": {
        "colab": {
          "base_uri": "https://localhost:8080/",
          "height": 211
        },
        "id": "GVwOb-w_Gdhf",
        "outputId": "b8d63410-62ed-4766-92b8-8bf1e75254b7"
      },
      "execution_count": null,
      "outputs": [
        {
          "output_type": "stream",
          "name": "stdout",
          "text": [
            "helloyellow\n",
            "hello yellow\n"
          ]
        },
        {
          "output_type": "error",
          "ename": "TypeError",
          "evalue": "can only concatenate str (not \"int\") to str",
          "traceback": [
            "\u001b[0;31m---------------------------------------------------------------------------\u001b[0m",
            "\u001b[0;31mTypeError\u001b[0m                                 Traceback (most recent call last)",
            "\u001b[0;32m/tmp/ipython-input-1203399792.py\u001b[0m in \u001b[0;36m<cell line: 0>\u001b[0;34m()\u001b[0m\n\u001b[1;32m      4\u001b[0m \u001b[0mprint\u001b[0m\u001b[0;34m(\u001b[0m\u001b[0ma\u001b[0m\u001b[0;34m+\u001b[0m\u001b[0;34m\" \"\u001b[0m\u001b[0;34m+\u001b[0m\u001b[0mb\u001b[0m\u001b[0;34m)\u001b[0m\u001b[0;34m\u001b[0m\u001b[0;34m\u001b[0m\u001b[0m\n\u001b[1;32m      5\u001b[0m \u001b[0mc\u001b[0m\u001b[0;34m=\u001b[0m\u001b[0;36m10\u001b[0m\u001b[0;34m\u001b[0m\u001b[0;34m\u001b[0m\u001b[0m\n\u001b[0;32m----> 6\u001b[0;31m \u001b[0mprint\u001b[0m\u001b[0;34m(\u001b[0m\u001b[0ma\u001b[0m\u001b[0;34m+\u001b[0m\u001b[0mc\u001b[0m\u001b[0;34m)\u001b[0m\u001b[0;34m\u001b[0m\u001b[0;34m\u001b[0m\u001b[0m\n\u001b[0m",
            "\u001b[0;31mTypeError\u001b[0m: can only concatenate str (not \"int\") to str"
          ]
        }
      ]
    }
  ]
}