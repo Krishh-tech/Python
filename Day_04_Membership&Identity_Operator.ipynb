{
  "nbformat": 4,
  "nbformat_minor": 0,
  "metadata": {
    "colab": {
      "provenance": [],
      "authorship_tag": "ABX9TyN8OlkKnHrhbQb4RqSkvOSH",
      "include_colab_link": true
    },
    "kernelspec": {
      "name": "python3",
      "display_name": "Python 3"
    },
    "language_info": {
      "name": "python"
    }
  },
  "cells": [
    {
      "cell_type": "markdown",
      "metadata": {
        "id": "view-in-github",
        "colab_type": "text"
      },
      "source": [
        "<a href=\"https://colab.research.google.com/github/Krishh-tech/Python/blob/main/Day_04_Membership%26Identity_Operator.ipynb\" target=\"_parent\"><img src=\"https://colab.research.google.com/assets/colab-badge.svg\" alt=\"Open In Colab\"/></a>"
      ]
    },
    {
      "cell_type": "markdown",
      "source": [],
      "metadata": {
        "id": "qAK5EAhmAlFN"
      }
    },
    {
      "cell_type": "markdown",
      "metadata": {
        "id": "3e89a24e"
      },
      "source": [
        "| Operator | Description | Example | Result |\n",
        "|---|---|---|---|\n",
        "| `in` | Evaluates to `True` if the specified value is found in the sequence. | `5 in [1, 2, 3, 4, 5]` | `True` |\n",
        "| `not in` | Evaluates to `True` if the specified value is not found in the sequence. | `5 not in [1, 2, 3, 4]` | `True` |\n",
        "\n"
      ]
    },
    {
      "cell_type": "code",
      "source": [
        "str1='Hello'\n",
        "print('H'in str1)\n",
        "print('a' not in str1)"
      ],
      "metadata": {
        "colab": {
          "base_uri": "https://localhost:8080/"
        },
        "id": "j_K1_v9UA8aS",
        "outputId": "13d843e6-eff9-4987-912b-b1d77dc9d2bc"
      },
      "execution_count": 2,
      "outputs": [
        {
          "output_type": "stream",
          "name": "stdout",
          "text": [
            "True\n",
            "True\n"
          ]
        }
      ]
    },
    {
      "cell_type": "markdown",
      "metadata": {
        "id": "fd880503"
      },
      "source": [
        "| Operator | Description | Example | Result |\n",
        "|---|---|---|---|\n",
        "| `is` | Evaluates to `True` if the variables on either side of the operator point to the same object. | `x = 5; y = 5; x is y` | `True` |\n",
        "| `is not` | Evaluates to `True` if the variables on either side of the operator do not point to the same object. | `x = 5; y = 10; x is not y` | `True` |"
      ]
    },
    {
      "cell_type": "code",
      "source": [
        "x=10\n",
        "y=50\n",
        "print(x is not y,x!=y)\n",
        "print(x is y,x==y)"
      ],
      "metadata": {
        "colab": {
          "base_uri": "https://localhost:8080/"
        },
        "id": "v0jXgX8fBlqU",
        "outputId": "8a8b6a4f-c938-4a09-b681-7d95458602bc"
      },
      "execution_count": 6,
      "outputs": [
        {
          "output_type": "stream",
          "name": "stdout",
          "text": [
            "True True\n",
            "False False\n"
          ]
        }
      ]
    }
  ]
}