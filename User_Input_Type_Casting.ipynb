{
  "cells": [
    {
      "cell_type": "markdown",
      "metadata": {
        "id": "view-in-github",
        "colab_type": "text"
      },
      "source": [
        "<a href=\"https://colab.research.google.com/github/Krishh-tech/Python/blob/main/User_Input_Type_Casting.ipynb\" target=\"_parent\"><img src=\"https://colab.research.google.com/assets/colab-badge.svg\" alt=\"Open In Colab\"/></a>"
      ]
    },
    {
      "cell_type": "markdown",
      "id": "eb2a42d9",
      "metadata": {
        "id": "eb2a42d9"
      },
      "source": [
        "# 🐍 Python – User Input & Type Casting\n",
        "---"
      ]
    },
    {
      "cell_type": "markdown",
      "id": "848836fa",
      "metadata": {
        "id": "848836fa"
      },
      "source": [
        "## 1. User Input in Python\n",
        "- In Python, input from the user is taken using the `input()` function.\n",
        "- By default, the input is always taken as a **string**."
      ]
    },
    {
      "cell_type": "code",
      "execution_count": null,
      "id": "c642e560",
      "metadata": {
        "id": "c642e560"
      },
      "outputs": [],
      "source": [
        "name = input('Enter your name: ')\n",
        "print('Hello,', name)"
      ]
    },
    {
      "cell_type": "markdown",
      "id": "d5e2ca7b",
      "metadata": {
        "id": "d5e2ca7b"
      },
      "source": [
        "❓ Question: What is the default data type of input taken from `input()` function?\n",
        "\n",
        "✅ Answer: string"
      ]
    },
    {
      "cell_type": "markdown",
      "id": "5b12a2bf",
      "metadata": {
        "id": "5b12a2bf"
      },
      "source": [
        "## 2. Converting String to Integer\n",
        "- Use `int()` to convert string into integer."
      ]
    },
    {
      "cell_type": "code",
      "execution_count": null,
      "id": "8c8d95b2",
      "metadata": {
        "id": "8c8d95b2"
      },
      "outputs": [],
      "source": [
        "age = int(input('Enter your age: '))\n",
        "print('Next year you will be:', age + 1)"
      ]
    },
    {
      "cell_type": "markdown",
      "id": "679c7e71",
      "metadata": {
        "id": "679c7e71"
      },
      "source": [
        "❓ Question: Write code to take an integer from user and print its square.\n",
        "\n",
        "✅ Answer:\n",
        "```python\n",
        "num = int(input())\n",
        "print(num*num)\n",
        "```"
      ]
    },
    {
      "cell_type": "markdown",
      "id": "e4feb442",
      "metadata": {
        "id": "e4feb442"
      },
      "source": [
        "## 3. Converting String to Float\n",
        "- Use `float()` when you need decimal numbers."
      ]
    },
    {
      "cell_type": "code",
      "execution_count": null,
      "id": "3f66b40e",
      "metadata": {
        "id": "3f66b40e"
      },
      "outputs": [],
      "source": [
        "price = float(input('Enter the price: '))\n",
        "print('Price after 10% discount:', price * 0.9)"
      ]
    },
    {
      "cell_type": "markdown",
      "id": "c7d9f4af",
      "metadata": {
        "id": "c7d9f4af"
      },
      "source": [
        "❓ Question: Take a float input for marks and print 50% of it.\n",
        "\n",
        "✅ Answer:\n",
        "```python\n",
        "marks = float(input())\n",
        "print(marks*0.5)\n",
        "```"
      ]
    },
    {
      "cell_type": "markdown",
      "id": "5b0a55bb",
      "metadata": {
        "id": "5b0a55bb"
      },
      "source": [
        "## 4. Converting Number to String\n",
        "- Use `str()` to convert numbers into string type."
      ]
    },
    {
      "cell_type": "code",
      "execution_count": null,
      "id": "fa5f2d3c",
      "metadata": {
        "id": "fa5f2d3c"
      },
      "outputs": [],
      "source": [
        "age = 18\n",
        "print('Your age is ' + str(age))"
      ]
    },
    {
      "cell_type": "markdown",
      "id": "500b82ae",
      "metadata": {
        "id": "500b82ae"
      },
      "source": [
        "❓ Question: Convert number `123` into string and concatenate with 'ABC'.\n",
        "\n",
        "✅ Answer: `'123ABC'`"
      ]
    },
    {
      "cell_type": "markdown",
      "id": "7ec2bf5c",
      "metadata": {
        "id": "7ec2bf5c"
      },
      "source": [
        "## 5. Multiple Inputs in One Line\n",
        "- You can take multiple inputs at once using `split()`."
      ]
    },
    {
      "cell_type": "code",
      "execution_count": null,
      "id": "8048d0d0",
      "metadata": {
        "id": "8048d0d0"
      },
      "outputs": [],
      "source": [
        "a, b = input('Enter two numbers: ').split()\n",
        "print('First:', a, 'Second:', b)"
      ]
    },
    {
      "cell_type": "markdown",
      "id": "f1c37159",
      "metadata": {
        "id": "f1c37159"
      },
      "source": [
        "❓ Question: Input two integers in one line and print their sum.\n",
        "\n",
        "✅ Answer:\n",
        "```python\n",
        "a, b = map(int, input().split())\n",
        "print(a+b)\n",
        "```"
      ]
    },
    {
      "cell_type": "markdown",
      "id": "e889cb3b",
      "metadata": {
        "id": "e889cb3b"
      },
      "source": [
        "## 6. Type Casting Summary\n",
        "- `int(x)` → converts to integer.\n",
        "- `float(x)` → converts to float.\n",
        "- `str(x)` → converts to string."
      ]
    },
    {
      "cell_type": "markdown",
      "id": "1406673f",
      "metadata": {
        "id": "1406673f"
      },
      "source": [
        "❓ Question: Which function converts string `'45.6'` to a float?\n",
        "\n",
        "✅ Answer: `float('45.6')`"
      ]
    }
  ],
  "metadata": {
    "colab": {
      "provenance": [],
      "include_colab_link": true
    }
  },
  "nbformat": 4,
  "nbformat_minor": 5
}