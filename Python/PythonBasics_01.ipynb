{
  "nbformat": 4,
  "nbformat_minor": 0,
  "metadata": {
    "colab": {
      "provenance": [],
      "authorship_tag": "ABX9TyPoD3U37OvllcyPElWSfwat",
      "include_colab_link": true
    },
    "kernelspec": {
      "name": "python3",
      "display_name": "Python 3"
    },
    "language_info": {
      "name": "python"
    }
  },
  "cells": [
    {
      "cell_type": "markdown",
      "metadata": {
        "id": "view-in-github",
        "colab_type": "text"
      },
      "source": [
        "<a href=\"https://colab.research.google.com/github/Krishh-tech/Python/blob/main/Python/PythonBasics_01.ipynb\" target=\"_parent\"><img src=\"https://colab.research.google.com/assets/colab-badge.svg\" alt=\"Open In Colab\"/></a>"
      ]
    },
    {
      "cell_type": "code",
      "source": [
        "\"\"\"name=\"Krish\"\n",
        "age=18\n",
        "price=28.99\n",
        "print(type(name))\n",
        "print(type(age))\n",
        "print(type(price))\n",
        "\"type is function which tells us data type of the varibale\"\n",
        "print(\"my name is:\",name)\n",
        "print(\"My name is:\",name,\"And price of the apple is:\",price)\n",
        "\"Data types-int,boolean,string,none,float\"\n",
        "old=False\n",
        "print(type(old))\n",
        "\"Keywords is reserved word which cann't be used as variable- False,await,else,import,pass,None,break,except,in,raise,True,class,finally,is,return,and,continue,for,lambda,try,as,def,from,nonlocal,while,assert,del,global,not,with,async,elif,if,or,yield\"\n",
        "\"Print a sum\"\n",
        "\"\"\"\n",
        "\n",
        "a=10\n",
        "b=20\n",
        "sum=a+b\n",
        "print(sum)\n"
      ],
      "metadata": {
        "id": "lyRDMqrZ6chO",
        "colab": {
          "base_uri": "https://localhost:8080/"
        },
        "outputId": "9cf22880-6441-4a46-a9ac-740f347f5de3"
      },
      "execution_count": null,
      "outputs": [
        {
          "output_type": "stream",
          "name": "stdout",
          "text": [
            "30\n"
          ]
        }
      ]
    },
    {
      "cell_type": "code",
      "source": [
        "\"Types of tokem-(),{},@,[],#etc\"\n"
      ],
      "metadata": {
        "id": "As-7Vpg8Vv1m"
      },
      "execution_count": null,
      "outputs": []
    },
    {
      "cell_type": "markdown",
      "source": [],
      "metadata": {
        "id": "-9TgjdY2Nnzr"
      }
    }
  ]
}