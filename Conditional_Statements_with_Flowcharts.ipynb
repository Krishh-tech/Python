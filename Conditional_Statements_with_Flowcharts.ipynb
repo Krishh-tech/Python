{
  "cells": [
    {
      "cell_type": "markdown",
      "metadata": {
        "id": "view-in-github",
        "colab_type": "text"
      },
      "source": [
        "<a href=\"https://colab.research.google.com/github/Krishh-tech/Python/blob/main/Conditional_Statements_with_Flowcharts.ipynb\" target=\"_parent\"><img src=\"https://colab.research.google.com/assets/colab-badge.svg\" alt=\"Open In Colab\"/></a>"
      ]
    },
    {
      "cell_type": "markdown",
      "id": "a01cce21",
      "metadata": {
        "id": "a01cce21"
      },
      "source": [
        "\n",
        "# 🐍 Conditional Statements in Python (With Flowcharts)\n",
        "\n",
        "This notebook explains **conditional statements** in Python with **examples and flowcharts** using `graphviz`.\n"
      ]
    },
    {
      "cell_type": "code",
      "execution_count": null,
      "id": "398c4b43",
      "metadata": {
        "id": "398c4b43"
      },
      "outputs": [],
      "source": [
        "!pip install graphviz"
      ]
    },
    {
      "cell_type": "markdown",
      "id": "e89f5abb",
      "metadata": {
        "id": "e89f5abb"
      },
      "source": [
        "\n",
        "## 🔹 `if` Statement\n",
        "\n",
        "```python\n",
        "x = 10\n",
        "if x > 5:\n",
        "    print(\"x is greater than 5\")\n",
        "```\n"
      ]
    },
    {
      "cell_type": "code",
      "execution_count": null,
      "id": "a184806d",
      "metadata": {
        "id": "a184806d"
      },
      "outputs": [],
      "source": [
        "\n",
        "from graphviz import Digraph\n",
        "\n",
        "dot = Digraph()\n",
        "\n",
        "dot.node(\"Start\")\n",
        "dot.node(\"Cond\", \"x > 5 ?\")\n",
        "dot.node(\"True\", \"print('x is greater than 5')\")\n",
        "dot.node(\"End\")\n",
        "\n",
        "dot.edges([(\"Start\",\"Cond\")])\n",
        "dot.edge(\"Cond\",\"True\", label=\"Yes\")\n",
        "dot.edge(\"Cond\",\"End\", label=\"No\")\n",
        "dot.edge(\"True\",\"End\")\n",
        "\n",
        "dot.render(\"if_flowchart\", format=\"png\", cleanup=True)\n",
        "dot\n"
      ]
    },
    {
      "cell_type": "markdown",
      "id": "1eb1eb06",
      "metadata": {
        "id": "1eb1eb06"
      },
      "source": [
        "\n",
        "## 🔹 `if-else` Statement\n",
        "\n",
        "```python\n",
        "age = 18\n",
        "if age >= 18:\n",
        "    print(\"Eligible to vote\")\n",
        "else:\n",
        "    print(\"Not eligible to vote\")\n",
        "```\n"
      ]
    },
    {
      "cell_type": "code",
      "execution_count": null,
      "id": "f7c7ed73",
      "metadata": {
        "id": "f7c7ed73"
      },
      "outputs": [],
      "source": [
        "\n",
        "from graphviz import Digraph\n",
        "\n",
        "dot = Digraph()\n",
        "\n",
        "dot.node(\"Start\")\n",
        "dot.node(\"Cond\", \"age >= 18 ?\")\n",
        "dot.node(\"T\", \"print('Eligible')\")\n",
        "dot.node(\"F\", \"print('Not eligible')\")\n",
        "dot.node(\"End\")\n",
        "\n",
        "dot.edges([(\"Start\",\"Cond\")])\n",
        "dot.edge(\"Cond\",\"T\", label=\"Yes\")\n",
        "dot.edge(\"Cond\",\"F\", label=\"No\")\n",
        "dot.edge(\"T\",\"End\")\n",
        "dot.edge(\"F\",\"End\")\n",
        "\n",
        "dot.render(\"ifelse_flowchart\", format=\"png\", cleanup=True)\n",
        "dot\n"
      ]
    },
    {
      "cell_type": "markdown",
      "id": "f0cdbb23",
      "metadata": {
        "id": "f0cdbb23"
      },
      "source": [
        "\n",
        "## 🔹 `if-elif-else` Statement\n",
        "\n",
        "```python\n",
        "marks = 75\n",
        "if marks >= 90:\n",
        "    print(\"Grade A\")\n",
        "elif marks >= 60:\n",
        "    print(\"Grade B\")\n",
        "else:\n",
        "    print(\"Grade C\")\n",
        "```\n"
      ]
    },
    {
      "cell_type": "code",
      "execution_count": null,
      "id": "8c46862a",
      "metadata": {
        "id": "8c46862a"
      },
      "outputs": [],
      "source": [
        "\n",
        "from graphviz import Digraph\n",
        "\n",
        "dot = Digraph()\n",
        "\n",
        "dot.node(\"Start\")\n",
        "dot.node(\"C1\", \"marks >= 90 ?\")\n",
        "dot.node(\"C2\", \"marks >= 60 ?\")\n",
        "dot.node(\"A\", \"Grade A\")\n",
        "dot.node(\"B\", \"Grade B\")\n",
        "dot.node(\"C\", \"Grade C\")\n",
        "dot.node(\"End\")\n",
        "\n",
        "dot.edge(\"Start\",\"C1\")\n",
        "dot.edge(\"C1\",\"A\", label=\"Yes\")\n",
        "dot.edge(\"A\",\"End\")\n",
        "dot.edge(\"C1\",\"C2\", label=\"No\")\n",
        "dot.edge(\"C2\",\"B\", label=\"Yes\")\n",
        "dot.edge(\"B\",\"End\")\n",
        "dot.edge(\"C2\",\"C\", label=\"No\")\n",
        "dot.edge(\"C\",\"End\")\n",
        "\n",
        "dot.render(\"elif_flowchart\", format=\"png\", cleanup=True)\n",
        "dot\n"
      ]
    },
    {
      "cell_type": "markdown",
      "id": "4e37ddc4",
      "metadata": {
        "id": "4e37ddc4"
      },
      "source": [
        "\n",
        "## 🔹 Nested `if` Statement\n",
        "\n",
        "```python\n",
        "num = 15\n",
        "if num > 0:\n",
        "    if num % 2 == 0:\n",
        "        print(\"Positive Even\")\n",
        "    else:\n",
        "        print(\"Positive Odd\")\n",
        "```\n"
      ]
    },
    {
      "cell_type": "code",
      "execution_count": null,
      "id": "fb86506a",
      "metadata": {
        "id": "fb86506a"
      },
      "outputs": [],
      "source": [
        "\n",
        "from graphviz import Digraph\n",
        "\n",
        "dot = Digraph()\n",
        "\n",
        "dot.node(\"Start\")\n",
        "dot.node(\"C1\", \"num > 0 ?\")\n",
        "dot.node(\"C2\", \"num % 2 == 0 ?\")\n",
        "dot.node(\"E\", \"Positive Even\")\n",
        "dot.node(\"O\", \"Positive Odd\")\n",
        "dot.node(\"Neg\", \"Negative\")\n",
        "dot.node(\"End\")\n",
        "\n",
        "dot.edge(\"Start\",\"C1\")\n",
        "dot.edge(\"C1\",\"Neg\", label=\"No\")\n",
        "dot.edge(\"Neg\",\"End\")\n",
        "dot.edge(\"C1\",\"C2\", label=\"Yes\")\n",
        "dot.edge(\"C2\",\"E\", label=\"Yes\")\n",
        "dot.edge(\"E\",\"End\")\n",
        "dot.edge(\"C2\",\"O\", label=\"No\")\n",
        "dot.edge(\"O\",\"End\")\n",
        "\n",
        "dot.render(\"nestedif_flowchart\", format=\"png\", cleanup=True)\n",
        "dot\n"
      ]
    },
    {
      "cell_type": "markdown",
      "id": "5abf761f",
      "metadata": {
        "id": "5abf761f"
      },
      "source": [
        "\n",
        "## 🔹 Shorthand `if` (Ternary Operator)\n",
        "\n",
        "```python\n",
        "a, b = 5, 10\n",
        "print(\"a is greater\") if a > b else print(\"b is greater\")\n",
        "```\n"
      ]
    },
    {
      "cell_type": "code",
      "execution_count": null,
      "id": "9928acc1",
      "metadata": {
        "id": "9928acc1"
      },
      "outputs": [],
      "source": [
        "\n",
        "from graphviz import Digraph\n",
        "\n",
        "dot = Digraph()\n",
        "\n",
        "dot.node(\"Start\")\n",
        "dot.node(\"Cond\", \"a > b ?\")\n",
        "dot.node(\"T\", \"print('a is greater')\")\n",
        "dot.node(\"F\", \"print('b is greater')\")\n",
        "dot.node(\"End\")\n",
        "\n",
        "dot.edge(\"Start\",\"Cond\")\n",
        "dot.edge(\"Cond\",\"T\", label=\"Yes\")\n",
        "dot.edge(\"Cond\",\"F\", label=\"No\")\n",
        "dot.edge(\"T\",\"End\")\n",
        "dot.edge(\"F\",\"End\")\n",
        "\n",
        "dot.render(\"ternary_flowchart\", format=\"png\", cleanup=True)\n",
        "dot\n"
      ]
    }
  ],
  "metadata": {
    "colab": {
      "provenance": [],
      "include_colab_link": true
    }
  },
  "nbformat": 4,
  "nbformat_minor": 5
}