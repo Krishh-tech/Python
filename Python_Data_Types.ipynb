{
  "cells": [
    {
      "cell_type": "markdown",
      "metadata": {
        "id": "view-in-github",
        "colab_type": "text"
      },
      "source": [
        "<a href=\"https://colab.research.google.com/github/Krishh-tech/Python/blob/main/Python_Data_Types.ipynb\" target=\"_parent\"><img src=\"https://colab.research.google.com/assets/colab-badge.svg\" alt=\"Open In Colab\"/></a>"
      ]
    },
    {
      "cell_type": "markdown",
      "id": "ad69703a",
      "metadata": {
        "id": "ad69703a"
      },
      "source": [
        "# 🐍 Python Data Types – Your Complete Buddy Notes\n",
        "\n",
        "👉 In Python, everything is an **object**. Data types tell Python *what kind of stuff* you’re dealing with.  \n",
        "You can imagine them like “categories in your hostel mess menu” 🍛 → Veg, Sweet, Drinks… you get the vibe.\n"
      ]
    },
    {
      "cell_type": "markdown",
      "id": "d78b930d",
      "metadata": {
        "id": "d78b930d"
      },
      "source": [
        "## 1. **Numeric Types** (Numbers Gang 🔢)\n",
        "\n",
        "* **int** → Whole numbers (no decimal). Example: `10`, `-45`, `100000`  \n",
        "* **float** → Numbers with decimal points. Example: `3.14`, `-2.5`, `0.0`  \n",
        "* **complex** → Numbers with real + imaginary part. Example: `3 + 4j`  \n",
        "\n",
        "💡 Fun fact: Python can handle *really big numbers* (like 10^1000) without breaking a sweat.\n"
      ]
    },
    {
      "cell_type": "code",
      "execution_count": null,
      "id": "28d505ef",
      "metadata": {
        "colab": {
          "base_uri": "https://localhost:8080/"
        },
        "id": "28d505ef",
        "outputId": "0c6f5104-4684-47c8-88a8-aeb4ea31be50"
      },
      "outputs": [
        {
          "output_type": "stream",
          "name": "stdout",
          "text": [
            "<class 'int'>\n",
            "<class 'float'>\n",
            "<class 'complex'>\n"
          ]
        }
      ],
      "source": [
        "x=7     #integer no., you can not write 0 before regular no.\n",
        "y=6.11  #float no. means decimal no.'s\n",
        "z=2+4j  #Complex no. number + Imaginary no.\n",
        "print(type(x))\n",
        "print(type(y))\n",
        "print(type(z))    # we cann't check multiple times.\n",
        "#because 07 is interpreted as an octal literal, and leading zeros are not allowed in decimal integer literals. Also, the imaginary part of a complex number in Python is represented by j, not i. I will fix these errors and also adjust the print statement to correctly display the types of all variables.\n",
        "\n",
        "\n"
      ]
    },
    {
      "cell_type": "markdown",
      "id": "1f14ef2f",
      "metadata": {
        "id": "1f14ef2f"
      },
      "source": [
        "## 2. **Text Type** (Strings 🎶)\n",
        "\n",
        "* **str** → Text, characters, basically anything inside quotes.  \n",
        "  Example: `\"Python\"`, `'Hello'`, `\"123\"`  \n"
      ]
    },
    {
      "cell_type": "code",
      "execution_count": null,
      "id": "41a26b40",
      "metadata": {
        "colab": {
          "base_uri": "https://localhost:8080/"
        },
        "id": "41a26b40",
        "outputId": "3171a6f0-94fa-4e55-eef6-c28a79cc092b"
      },
      "outputs": [
        {
          "output_type": "stream",
          "name": "stdout",
          "text": [
            "hiNaruto\n",
            "Na\n"
          ]
        }
      ],
      "source": [
        "Name=\"Naruto\"\n",
        "f='hi'\n",
        "print(f+Name)   # multiplying with no. chalega but multiplying with character pehle defined karna padega.\n",
        "print(Name[0:2])\n",
        "\n",
        "#In Python, you can multiply a piece of text (a string) by a number to repeat it. For example, \"hi\" * 3 would give you \"hihihi\".\n",
        "\n",
        "#However, you cannot multiply a piece of text by another piece of text. Python doesn't know what you mean by \"hi\" multiplied by \"Naruto\".\n",
        "\n",
        "#To fix this, you would need to change what you're trying to do. Maybe you meant to print them next to each other? If so, you would use a plus sign + to combine them: print(f + Name) which would give you \"hiNaruto\"."
      ]
    },
    {
      "cell_type": "markdown",
      "id": "3d8727ad",
      "metadata": {
        "id": "3d8727ad"
      },
      "source": [
        "## 3. **Sequence Types** (Collection Squad 📦)\n",
        "\n",
        "These hold multiple items in one variable.\n",
        "\n",
        "* **list** → Ordered, changeable (mutable), allows duplicates.  \n",
        "  Example: `[10, 20, 30, 20]`  \n",
        "\n",
        "* **tuple** → Ordered, **unchangeable** (immutable), allows duplicates.  \n",
        "  Example: `(1, 2, 3, 2)`  \n",
        "\n",
        "* **range** → Represents numbers in a sequence (often used in loops).  \n",
        "  Example: `range(5)` → `0, 1, 2, 3, 4`  \n"
      ]
    },
    {
      "cell_type": "code",
      "execution_count": null,
      "id": "5d485f07",
      "metadata": {
        "colab": {
          "base_uri": "https://localhost:8080/",
          "height": 106
        },
        "id": "5d485f07",
        "outputId": "33c48c7d-0a6d-49a8-a20c-129b6d6ec6e8"
      },
      "outputs": [
        {
          "output_type": "error",
          "ename": "IndentationError",
          "evalue": "expected an indented block after 'for' statement on line 10 (ipython-input-3681181301.py, line 11)",
          "traceback": [
            "\u001b[0;36m  File \u001b[0;32m\"/tmp/ipython-input-3681181301.py\"\u001b[0;36m, line \u001b[0;32m11\u001b[0m\n\u001b[0;31m    print(i)\u001b[0m\n\u001b[0m    ^\u001b[0m\n\u001b[0;31mIndentationError\u001b[0m\u001b[0;31m:\u001b[0m expected an indented block after 'for' statement on line 10\n"
          ]
        }
      ],
      "source": [
        "lst=[10,20,30,40]\n",
        "tpl=(10,20,30,40)\n",
        "range(5)\n",
        "print(range)\n",
        "print(lst)\n",
        "print(tpl)\n",
        "\n",
        "for i in  range(5):\n",
        "  print(i)\n"
      ]
    },
    {
      "cell_type": "markdown",
      "id": "2aefdf27",
      "metadata": {
        "id": "2aefdf27"
      },
      "source": [
        "## 4. **Mapping Type** (Dictionary 📖)\n",
        "\n",
        "* **dict** → Key:Value pairs (like a word and its meaning).  \n",
        "  Example: `{\"name\": \"Krish\", \"age\": 18}`  \n"
      ]
    },
    {
      "cell_type": "code",
      "execution_count": null,
      "id": "2e92e76e",
      "metadata": {
        "colab": {
          "base_uri": "https://localhost:8080/"
        },
        "id": "2e92e76e",
        "outputId": "25a3eaf0-53fe-463f-c1d3-9c51252f041a"
      },
      "outputs": [
        {
          "output_type": "stream",
          "name": "stdout",
          "text": [
            "18\n"
          ]
        }
      ],
      "source": [
        "std={\"Age\":18,\"Name\":\"Krish\"}\n",
        "print(std[\"Age\"])"
      ]
    },
    {
      "cell_type": "markdown",
      "id": "c1f3ec78",
      "metadata": {
        "id": "c1f3ec78"
      },
      "source": [
        "## 5. **Set Types** (Math Club 🔢)\n",
        "\n",
        "* **set** → Unordered, no duplicates allowed. Example: `{1, 2, 3}`  \n",
        "* **frozenset** → Same as set but **immutable**.  \n"
      ]
    },
    {
      "cell_type": "code",
      "execution_count": null,
      "id": "5be03897",
      "metadata": {
        "colab": {
          "base_uri": "https://localhost:8080/"
        },
        "id": "5be03897",
        "outputId": "6f49d614-df1c-4ad8-827d-57aad6bfeaaf"
      },
      "outputs": [
        {
          "output_type": "stream",
          "name": "stdout",
          "text": [
            "{1, 2, 3, 4}\n"
          ]
        }
      ],
      "source": [
        "nums = {1, 2, 2, 3, 4}\n",
        "print(nums)"
      ]
    },
    {
      "cell_type": "markdown",
      "id": "4a9db239",
      "metadata": {
        "id": "4a9db239"
      },
      "source": [
        "## 6. **Boolean Type** (True/False Switch 🔘)\n",
        "\n",
        "* **bool** → Only two values: `True` or `False`.  \n",
        "Useful for conditions, decisions, loops, etc.  \n"
      ]
    },
    {
      "cell_type": "code",
      "execution_count": null,
      "id": "deca8ec7",
      "metadata": {
        "colab": {
          "base_uri": "https://localhost:8080/"
        },
        "id": "deca8ec7",
        "outputId": "46e2e0bb-63ef-4f4b-ed36-71ee8a7e7255"
      },
      "outputs": [
        {
          "output_type": "stream",
          "name": "stdout",
          "text": [
            "False\n",
            "<class 'bool'>\n"
          ]
        }
      ],
      "source": [
        "my_clg_is_best=False\n",
        "print(7>10)\n",
        "print(type(my_clg_is_best))\n",
        "\n",
        "\n"
      ]
    },
    {
      "cell_type": "markdown",
      "id": "90bc09e6",
      "metadata": {
        "id": "90bc09e6"
      },
      "source": [
        "## 7. **Binary Types** (Low-level Stuff 💻)\n",
        "\n",
        "* **bytes** → Immutable sequence of bytes.  \n",
        "* **bytearray** → Mutable sequence of bytes.  \n",
        "* **memoryview** → View of memory (advanced, used rarely).  \n",
        "\n",
        "-**bytes**:\n",
        "\n",
        "Explanation: This is like a sequence of numbers (from 0 to 255) that represent raw data. Once you create a bytes object, you cannot change it. It's immutable.\n",
        "Example: You often see bytes when dealing with file content, network data, or encoded text.\n",
        "\n",
        "-**bytearray**:\n",
        "\n",
        "Explanation: This is similar to bytes, a sequence of numbers (0 to 255), but the big difference is that you can change it after you create it. You can add, remove, or modify the bytes. It's mutable.\n",
        "Example: You might use a bytearray if you need to build or modify binary data piece by piece.\n",
        "-**memoryview**:\n",
        "\n",
        "Explanation: This is a more advanced type. Instead of copying the raw data, a memoryview gives you a way to look at or access the data stored in other binary objects (bytes, bytearray, etc.) without making a copy. It's like having a window into the memory where the data is stored. It's used for efficiency when you're working with very large amounts of data and don't want to make copies. It's less commonly used in everyday programming.\n"
      ]
    },
    {
      "cell_type": "code",
      "execution_count": null,
      "id": "fd486ef2",
      "metadata": {
        "colab": {
          "base_uri": "https://localhost:8080/"
        },
        "id": "fd486ef2",
        "outputId": "855783bf-43c7-4919-b899-fdba783a1d5d"
      },
      "outputs": [
        {
          "output_type": "stream",
          "name": "stdout",
          "text": [
            "b'Hello'\n"
          ]
        }
      ],
      "source": [
        "data = b\"Hello\"\n",
        "print(data)"
      ]
    },
    {
      "cell_type": "markdown",
      "id": "5c814596",
      "metadata": {
        "id": "5c814596"
      },
      "source": [
        "## 🎯 Quick Recap\n",
        "\n",
        "* Numbers: `int`, `float`, `complex`  \n",
        "* Text: `str`  \n",
        "* Sequences: `list`, `tuple`, `range`  \n",
        "* Mapping: `dict`  \n",
        "* Sets: `set`, `frozenset`  \n",
        "* Boolean: `bool`  \n",
        "* Binary: `bytes`, `bytearray`, `memoryview`  \n"
      ]
    },
    {
      "cell_type": "markdown",
      "id": "9a9990a2",
      "metadata": {
        "id": "9a9990a2"
      },
      "source": [
        "✨ Motivation boost: If you master Python data types, you’ve basically unlocked **50% of coding confidence**.  \n",
        "Because once you know “what kind of data you’re playing with”, the rest becomes super easy.  \n"
      ]
    }
  ],
  "metadata": {
    "colab": {
      "provenance": [],
      "include_colab_link": true
    },
    "language_info": {
      "name": "python"
    },
    "kernelspec": {
      "name": "python3",
      "display_name": "Python 3"
    }
  },
  "nbformat": 4,
  "nbformat_minor": 5
}