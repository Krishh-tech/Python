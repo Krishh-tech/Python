{
  "nbformat": 4,
  "nbformat_minor": 0,
  "metadata": {
    "colab": {
      "provenance": [],
      "authorship_tag": "ABX9TyNDyxLDMhebG1rYmqrGotRF",
      "include_colab_link": true
    },
    "kernelspec": {
      "name": "python3",
      "display_name": "Python 3"
    },
    "language_info": {
      "name": "python"
    }
  },
  "cells": [
    {
      "cell_type": "markdown",
      "metadata": {
        "id": "view-in-github",
        "colab_type": "text"
      },
      "source": [
        "<a href=\"https://colab.research.google.com/github/Krishh-tech/Python/blob/main/PythonBasics_02_Arithmeticoperators.ipynb\" target=\"_parent\"><img src=\"https://colab.research.google.com/assets/colab-badge.svg\" alt=\"Open In Colab\"/></a>"
      ]
    },
    {
      "cell_type": "markdown",
      "source": [
        "🔷 Arithmetic Operators"
      ],
      "metadata": {
        "id": "9b9hUtl34aBr"
      }
    },
    {
      "cell_type": "markdown",
      "metadata": {
        "id": "a1a99163"
      },
      "source": [
        "| Operator | Name | Example |\n",
        "|---|---|---|\n",
        "| + | Addition | `a + b` |\n",
        "| - | Subtraction | `a - b` |\n",
        "| * | Multiplication | `a * b` |\n",
        "| / | Division | `a / b` |\n",
        "| % | Modulo | `a % b` |\n",
        "| ** | Exponentiation | `a ** b` |\n",
        "| // | Floor Division | `a // b` |\n",
        "| == | Equal to | `a == b` |\n",
        "| != | Not equal to | `a != b` |\n",
        "| > | Greater than | `a > b` |\n",
        "| < | Less than | `a < b` |\n",
        "| >= | Greater than or equal to | `a >= b` |\n",
        "| <= | Less than or equal to | `a <= b` |\n",
        "| and | Logical AND | `a and b` |\n",
        "| or | Logical OR | `a or b` |\n",
        "| not | Logical NOT | `not a` |\n",
        "| is | Identity | `a is b` |\n",
        "| is not | Negated Identity | `a is not b` |\n",
        "| in | Membership | `a in b` |\n",
        "| not in | Negated Membership | `a not in b` |"
      ]
    },
    {
      "cell_type": "code",
      "source": [
        "a=10\n",
        "b=20\n",
        "print(a+b)\n",
        "print(a-b)\n",
        "print(a*b)\n",
        "print(a/b)"
      ],
      "metadata": {
        "colab": {
          "base_uri": "https://localhost:8080/"
        },
        "id": "50JczSOK5H-i",
        "outputId": "aa4276d9-63c2-405b-926a-3ecf4c9eeff8"
      },
      "execution_count": null,
      "outputs": [
        {
          "output_type": "stream",
          "name": "stdout",
          "text": [
            "30\n",
            "-10\n",
            "200\n",
            "0.5\n"
          ]
        }
      ]
    },
    {
      "cell_type": "markdown",
      "source": [
        "🔶 Explanation of Modulo operator\n",
        "The expression 20 % 3 uses the modulo operator (%). The modulo operator returns the remainder of a division.\n",
        "\n",
        "Here's how it works:\n",
        "\n",
        "You divide the first number (20) by the second number (3). 20 / 3 = 6 with a remainder of 2\n",
        "The result of the modulo operation (20 % 3) is the remainder of this division, which is 2.\n",
        "So, 20 % 3 equals 2."
      ],
      "metadata": {
        "id": "EVzZsd_E51uq"
      }
    },
    {
      "cell_type": "code",
      "source": [
        "print(b%3)\n",
        "print(b**2)\n",
        "\"Double * means power\"\n",
        "print(b//3)\n",
        "\"It will show you dividend of the division\""
      ],
      "metadata": {
        "colab": {
          "base_uri": "https://localhost:8080/"
        },
        "id": "sKIp5lNT6v3p",
        "outputId": "ef13ef0e-e5e9-4804-b786-b5dfd49833d3"
      },
      "execution_count": null,
      "outputs": [
        {
          "output_type": "stream",
          "name": "stdout",
          "text": [
            "2\n",
            "400\n",
            "6\n"
          ]
        }
      ]
    },
    {
      "cell_type": "markdown",
      "source": [
        "🔶Assignment operator\n"
      ],
      "metadata": {
        "id": "-e6h3pZ6BsPO"
      }
    },
    {
      "cell_type": "markdown",
      "metadata": {
        "id": "7f29d695"
      },
      "source": [
        "| Operator | Name | Example | Program Example |\n",
        "|---|---|---|---|\n",
        "| = | Assignment | `a = 10` | ```python\\na = 10\\nprint(a)``` |\n",
        "| += | Add and Assign | `a += b` | ```python\\na = 5\\nb = 3\\na += b\\nprint(a) # Output: 8``` |\n",
        "| -= | Subtract and Assign | `a -= b` | ```python\\na = 10\\nb = 4\\na -= b\\nprint(a) # Output: 6``` |\n",
        "| *= | Multiply and Assign | `a *= b` | ```python\\na = 2\\nb = 6\\na *= b\\nprint(a) # Output: 12``` |\n",
        "| /= | Divide and Assign | `a /= b` | ```python\\na = 15\\nb = 3\\na /= b\\nprint(a) # Output: 5.0``` |\n",
        "| %= | Modulo and Assign | `a %= b` | ```python\\na = 10\\nb = 3\\na %= b\\nprint(a) # Output: 1``` |\n",
        "| **= | Exponentiate and Assign | `a **= b` | ```python\\na = 2\\nb = 3\\na **= b\\nprint(a) # Output: 8``` |\n",
        "| //= | Floor Divide and Assign | `a //= b` | ```python\\na = 10\\nb = 3\\na //= b\\nprint(a) # Output: 3``` |"
      ]
    },
    {
      "cell_type": "code",
      "source": [
        "A=10\n",
        "B=20\n",
        "x=10\n",
        "x+=B\n",
        "print(A+B)\n",
        "print(x)\n",
        "\"Same as for other operators\""
      ],
      "metadata": {
        "colab": {
          "base_uri": "https://localhost:8080/"
        },
        "id": "e_8ODHnGC0es",
        "outputId": "f9752010-4d82-4a6a-d560-24a8357312a6"
      },
      "execution_count": null,
      "outputs": [
        {
          "output_type": "stream",
          "name": "stdout",
          "text": [
            "30\n",
            "30\n"
          ]
        }
      ]
    },
    {
      "cell_type": "markdown",
      "source": [
        "💎Comparision operator\n"
      ],
      "metadata": {
        "id": "w4aLdJIRECDf"
      }
    },
    {
      "cell_type": "code",
      "source": [
        "a=10\n",
        "b=20\n",
        "print(a==b)\n",
        "print(a>b)\n",
        "print(a<b)\n",
        "print(a<=b)\n",
        "print(a>=b)\n",
        "print(a!=b)"
      ],
      "metadata": {
        "colab": {
          "base_uri": "https://localhost:8080/"
        },
        "id": "SeM81EBWIErT",
        "outputId": "6513a14d-fb9d-4ce5-cddd-af09314399fc"
      },
      "execution_count": null,
      "outputs": [
        {
          "output_type": "stream",
          "name": "stdout",
          "text": [
            "False\n",
            "False\n",
            "True\n",
            "True\n",
            "False\n",
            "True\n"
          ]
        }
      ]
    },
    {
      "cell_type": "markdown",
      "source": [
        "📌Logical operator\n"
      ],
      "metadata": {
        "id": "FPgip_M9InVC"
      }
    },
    {
      "cell_type": "markdown",
      "metadata": {
        "id": "f3eb7e8f"
      },
      "source": [
        "| Operator | Name | Example |\n",
        "|---|---|---|\n",
        "| and | Logical AND | `a and b` |\n",
        "| or | Logical OR | `a or b` |\n",
        "| not | Logical NOT | `not a` |\n",
        "\n",
        "AND = True -> jab dono true ho.\n",
        "\n",
        "OR = True -> Job dono mese koi ek True hoga tab.\n",
        "\n",
        "NOT = True -> It will reverse the result."
      ]
    },
    {
      "cell_type": "code",
      "source": [],
      "metadata": {
        "id": "wMMwhIr8JjXs"
      },
      "execution_count": null,
      "outputs": []
    }
  ]
}