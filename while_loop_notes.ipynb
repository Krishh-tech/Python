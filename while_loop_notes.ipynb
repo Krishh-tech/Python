{
  "cells": [
    {
      "cell_type": "markdown",
      "metadata": {
        "id": "view-in-github",
        "colab_type": "text"
      },
      "source": [
        "<a href=\"https://colab.research.google.com/github/Krishh-tech/Python/blob/main/while_loop_notes.ipynb\" target=\"_parent\"><img src=\"https://colab.research.google.com/assets/colab-badge.svg\" alt=\"Open In Colab\"/></a>"
      ]
    },
    {
      "cell_type": "markdown",
      "id": "3069f9dc",
      "metadata": {
        "id": "3069f9dc"
      },
      "source": [
        "# 🔄 While Loop in Python"
      ]
    },
    {
      "cell_type": "markdown",
      "id": "42f22fcf",
      "metadata": {
        "id": "42f22fcf"
      },
      "source": [
        "A **while loop** in Python is used to **repeat a block of code as long as a given condition is true**.\n",
        "\n",
        "👉 **Syntax:**\n",
        "```python\n",
        "while condition:\n",
        "    # code block\n",
        "```\n",
        "- **condition** → A logical expression checked before each loop execution.\n",
        "- If the condition is **True**, the loop runs.\n",
        "- If the condition is **False**, the loop stops.\n"
      ]
    },
    {
      "cell_type": "markdown",
      "id": "28210703",
      "metadata": {
        "id": "28210703"
      },
      "source": [
        "### ✅ Example 1: Counting from 1 to 5"
      ]
    },
    {
      "cell_type": "code",
      "execution_count": null,
      "id": "405f0a9e",
      "metadata": {
        "id": "405f0a9e"
      },
      "outputs": [],
      "source": [
        "i = 1\n",
        "while i <= 5:\n",
        "    print(i)\n",
        "    i += 1"
      ]
    },
    {
      "cell_type": "markdown",
      "id": "6fef31cc",
      "metadata": {
        "id": "6fef31cc"
      },
      "source": [
        "### ✅ Example 2: Printing even numbers up to 10"
      ]
    },
    {
      "cell_type": "code",
      "execution_count": null,
      "id": "742230cd",
      "metadata": {
        "id": "742230cd"
      },
      "outputs": [],
      "source": [
        "i = 2\n",
        "while i <= 10:\n",
        "    print(i)\n",
        "    i += 2"
      ]
    },
    {
      "cell_type": "markdown",
      "id": "516adb6f",
      "metadata": {
        "id": "516adb6f"
      },
      "source": [
        "### ⚠️ Be Careful: Infinite Loop  \n",
        "If the condition never becomes False, the loop will run forever.\n",
        "\n",
        "```python\n",
        "# Example of Infinite Loop\n",
        "# i = 1\n",
        "# while i <= 5:\n",
        "#     print(i)\n",
        "#     # Forgot to update i\n",
        "```\n"
      ]
    },
    {
      "cell_type": "markdown",
      "id": "64ee558e",
      "metadata": {
        "id": "64ee558e"
      },
      "source": [
        "## 📝 Practice Questions\n",
        "\n",
        "1. Write a program using a while loop to print numbers from 10 down to 1.  \n",
        "2. Write a program to find the sum of first `n` natural numbers using while loop.  \n",
        "3. Write a program to keep asking the user for input until they type `\"exit\"`.  \n"
      ]
    }
  ],
  "metadata": {
    "colab": {
      "provenance": [],
      "include_colab_link": true
    }
  },
  "nbformat": 4,
  "nbformat_minor": 5
}